{
 "cells": [
  {
   "cell_type": "markdown",
   "metadata": {},
   "source": [
    "# Saved Agent\n",
    "## Show how the trained agent performs!\n",
    "\n",
    "The sample agent loads the saved checkpoint NN weights for the actor and critic"
   ]
  },
  {
   "cell_type": "code",
   "execution_count": null,
   "metadata": {},
   "outputs": [],
   "source": [
    "env = UnityEnvironment(file_name='/Users/srirampalutla/Documents/OMSCS/U_DRL/deep-reinforcement-learning/p2_continuous-control/Reacher.app')\n",
    "# get the default brain\n",
    "brain_name = env.brain_names[0]\n",
    "brain = env.brains[brain_name]\n",
    "\n",
    "agent_show = Agent(state_size=33, action_size=4, random_seed=1234)\n",
    "agent_show.actor_local.load_state_dict(torch.load('checkpoint_actor.pth'))\n",
    "agent_show.critic_local.load_state_dict(torch.load('checkpoint_critic.pth'))\n",
    "\n",
    "env_info = env.reset(train_mode=False)[brain_name]\n",
    "for t in range(200):\n",
    "    states = env_info.vector_observations\n",
    "    actions = agent_show.act(states, add_noise=False)\n",
    "    env_info = env.step(actions)[brain_name]\n",
    "    done = env_info.local_done\n",
    "    #if done:\n",
    "        #break\n",
    "\n",
    "env.close()"
   ]
  }
 ],
 "metadata": {
  "kernelspec": {
   "display_name": "Python 3",
   "language": "python",
   "name": "python3"
  },
  "language_info": {
   "codemirror_mode": {
    "name": "ipython",
    "version": 3
   },
   "file_extension": ".py",
   "mimetype": "text/x-python",
   "name": "python",
   "nbconvert_exporter": "python",
   "pygments_lexer": "ipython3",
   "version": "3.7.1"
  }
 },
 "nbformat": 4,
 "nbformat_minor": 2
}
